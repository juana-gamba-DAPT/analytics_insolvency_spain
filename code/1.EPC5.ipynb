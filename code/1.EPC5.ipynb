{
 "cells": [
  {
   "cell_type": "code",
   "execution_count": 1,
   "id": "645d246f",
   "metadata": {},
   "outputs": [],
   "source": [
    "import pandas as pd\n",
    "from unidecode import unidecode\n",
    "from difflib import get_close_matches"
   ]
  },
  {
   "cell_type": "code",
   "execution_count": 2,
   "id": "dd9812f1",
   "metadata": {},
   "outputs": [
    {
     "name": "stdout",
     "output_type": "stream",
     "text": [
      "   ID GEO / CA  Unnamed: 0 Comunidad/Provincia Total V_Menos de 0,25  \\\n",
      "0  DESCONOCIDO           0           Andalucía   120              34   \n",
      "1          104           1             Almería     8               4   \n",
      "2          111           2               Cádiz    11               3   \n",
      "3          114           3             Córdoba    12               3   \n",
      "4          118           4             Granada     6               2   \n",
      "\n",
      "  V_Entre 0,25 y 0,5 V_Entre 0,5 y 1 V_Entre 1 y 2 V_Entre 2 y 5  \\\n",
      "0                 21              12            13             3   \n",
      "1                  1               0             0             0   \n",
      "2                  1               0             1             0   \n",
      "3                  4               1             0             1   \n",
      "4                  1               3             0             0   \n",
      "\n",
      "  V_Entre 5 y 10 V_10 o mas  SD      Filename  \n",
      "0              4          0  33  2021_1T.xlsx  \n",
      "1              1          0   2  2021_1T.xlsx  \n",
      "2              0          0   6  2021_1T.xlsx  \n",
      "3              0          0   3  2021_1T.xlsx  \n",
      "4              0          0   0  2021_1T.xlsx  \n"
     ]
    }
   ],
   "source": [
    "\n",
    "# --- Cargar datos  ---\n",
    "tabla1 = pd.read_csv(\"C:/Users/juana/Desktop/liquideuda_project/data_colegio/EPC5.csv\")\n",
    "tabla2 = pd.read_csv(\"C:/Users/juana/Downloads/ID GEO ESPAÑA - Hoja 1.csv\")\n",
    "\n",
    "# --- Preprocesar textos: quitar acentos y pasar todo a minúsculas ---\n",
    "def limpiar(texto):\n",
    "    return unidecode(str(texto)).lower().strip()\n",
    "\n",
    "tabla1[\"Comunidad/Provincia_limpia\"] = tabla1[\"Comunidad/Provincia\"].apply(limpiar)\n",
    "tabla2[\"Provincia_limpia\"] = tabla2[\"Provincia\"].apply(limpiar)\n",
    "tabla2[\"CA_limpia\"] = tabla2[\"Comunidad Autónoma\"].apply(limpiar)\n",
    "\n",
    "# --- Diccionarios auxiliares ---\n",
    "dicc_provincias = dict(zip(tabla2[\"Provincia_limpia\"], tabla2[\"ID GEO\"]))\n",
    "dicc_provincia_a_ca = dict(zip(tabla2[\"Provincia_limpia\"], tabla2[\"CA_limpia\"]))\n",
    "dicc_ca = {v: k for k, v in zip(tabla2[\"CA_limpia\"], tabla2[\"Comunidad Autónoma\"])}  # limpio→original\n",
    "\n",
    "# --- Función que busca coincidencia ---\n",
    "def obtener_valor(valor):\n",
    "    # 1) Intentamos buscar provincia\n",
    "    posibles = get_close_matches(valor, dicc_provincias.keys(), n=1, cutoff=0.8)\n",
    "    if posibles:\n",
    "        return dicc_provincias[posibles[0]]  # Devuelve ID GEO\n",
    "\n",
    "    # 2) Si no es provincia, probamos si es CA\n",
    "    posibles_ca = get_close_matches(valor, dicc_ca.keys(), n=1, cutoff=0.8)\n",
    "    if posibles_ca:\n",
    "        return dicc_ca[posibles_ca[0]]  # Devuelve nombre de la CA (original con tildes)\n",
    "\n",
    "    # 3) Si no coincide con nada, devolvemos \"DESCONOCIDO\"\n",
    "    return \"DESCONOCIDO\"\n",
    "\n",
    "# --- Crear nueva columna al inicio ---\n",
    "tabla1.insert(0, \"ID GEO / CA\", tabla1[\"Comunidad/Provincia_limpia\"].apply(obtener_valor))\n",
    "\n",
    "# --- Limpiar columnas auxiliares ---\n",
    "tabla1 = tabla1.drop(columns=[\"Comunidad/Provincia_limpia\"])\n",
    "\n",
    "# --- Resultado ---\n",
    "print(tabla1.head())\n",
    "df=tabla1\n",
    "\n",
    "\n",
    "# Función para limpiar nombres de columnas\n",
    "def limpiar_columna(col):\n",
    "    col = unidecode(col)             # quita acentos\n",
    "    col = col.lower()                # pasa a minúsculas\n",
    "    col = col.replace(\" \", \"_\")      # espacios por _\n",
    "    col = col.replace(\"/\", \"_\")      # / por _\n",
    "    col = col.replace(\"-\", \"_\")      # - por _\n",
    "    col = ''.join(c for c in col if c.isalnum() or c == \"_\")  # solo letras/números/_\n",
    "    return col\n",
    "\n",
    "# Aplicar a todas las columnas\n",
    "df.columns = [limpiar_columna(c) for c in df.columns]\n",
    "\n",
    "\n",
    "# Eliminar columnas que tengan todos los valores vacíos (NaN o \"\")\n",
    "df = df.dropna(axis=1, how=\"all\")           # elimina si todo es NaN\n",
    "df = df.loc[:, (df != \"\").any(axis=0)]      # elimina si todo es cadena vacía\n",
    "\n"
   ]
  },
  {
   "cell_type": "code",
   "execution_count": 3,
   "id": "b202c79c",
   "metadata": {},
   "outputs": [
    {
     "name": "stdout",
     "output_type": "stream",
     "text": [
      "Columnas después de limpiar: ['id_geo___ca', 'unnamed_0', 'comunidad_provincia', 'total', 'v_menos_de_025', 'v_entre_025_y_05', 'v_entre_05_y_1', 'v_entre_1_y_2', 'v_entre_2_y_5', 'v_entre_5_y_10', 'v_10_o_mas', 'sd', 'filename']\n"
     ]
    }
   ],
   "source": [
    "print(\"Columnas después de limpiar:\", df.columns.tolist())"
   ]
  },
  {
   "cell_type": "code",
   "execution_count": 4,
   "id": "391c726a",
   "metadata": {},
   "outputs": [
    {
     "name": "stdout",
     "output_type": "stream",
     "text": [
      "Columnas convertidas a numéricas correctamente.\n",
      "               Columnas  Cantidad vacíos  Porcentaje vacíos\n",
      "0           id_geo___ca                0               0.00\n",
      "1   comunidad_provincia                0               0.00\n",
      "2                 total                2               0.18\n",
      "3        v_menos_de_025                2               0.18\n",
      "4      v_entre_025_y_05                2               0.18\n",
      "5        v_entre_05_y_1                2               0.18\n",
      "6         v_entre_1_y_2                2               0.18\n",
      "7         v_entre_2_y_5                2               0.18\n",
      "8        v_entre_5_y_10                2               0.18\n",
      "9            v_10_o_mas                2               0.18\n",
      "10                   sd                2               0.18\n",
      "11             filename                0               0.00\n",
      "comunidad_provincia\n",
      "Andalucía                     18\n",
      "Las Palmas de Gran Canaria    18\n",
      "Cataluña                      18\n",
      "Alicante                      18\n",
      "Castellón                     18\n",
      "A Coruña                      18\n",
      "Pais Vasco                    18\n",
      "La Rioja                      18\n",
      "Ceuta y Melilla               18\n",
      "Name: count, dtype: int64\n"
     ]
    },
    {
     "data": {
      "text/plain": [
       "id_geo___ca\n",
       "639                     36\n",
       "734                     36\n",
       "943                     36\n",
       "104                     18\n",
       "816                     18\n",
       "819                     18\n",
       "845                     18\n",
       "908                     18\n",
       "917                     18\n",
       "925                     18\n",
       "comunitat valenciana    18\n",
       "extremadura             18\n",
       "1106                    18\n",
       "1110                    18\n",
       "galicia                 18\n",
       "802                     18\n",
       "1227                    18\n",
       "1232                    18\n",
       "1236                    18\n",
       "1328                    18\n",
       "1430                    18\n",
       "1531                    18\n",
       "1601                    18\n",
       "1648                    18\n",
       "1620                    18\n",
       "1851                    18\n",
       "813                     18\n",
       "749                     18\n",
       "castilla-la mancha      18\n",
       "333                     18\n",
       "114                     18\n",
       "118                     18\n",
       "121                     18\n",
       "123                     18\n",
       "129                     18\n",
       "141                     18\n",
       "222                     18\n",
       "244                     18\n",
       "250                     18\n",
       "407                     18\n",
       "111                     18\n",
       "538                     18\n",
       "castilla y leon         18\n",
       "705                     18\n",
       "709                     18\n",
       "724                     18\n",
       "737                     18\n",
       "740                     18\n",
       "742                     18\n",
       "747                     18\n",
       "1952                    18\n",
       "Name: count, dtype: int64"
      ]
     },
     "execution_count": 4,
     "metadata": {},
     "output_type": "execute_result"
    }
   ],
   "source": [
    "# Eliminar la columna de índice si se importó como parte del DataFrame\n",
    "df = df.reset_index(drop=True)\n",
    "\n",
    "# Eliminar columna llamada 'unnamed_0' si existe\n",
    "df = df.drop(columns=['unnamed_0'], errors='ignore')\n",
    "df\n",
    "# Lista de columnas a convertir a numerico\n",
    "cols_a_convertir = ['total', 'v_menos_de_025', 'v_entre_025_y_05', 'v_entre_05_y_1', 'v_entre_1_y_2', 'v_entre_2_y_5', 'v_entre_5_y_10', 'v_10_o_mas', 'sd']\n",
    "\n",
    "# Convertir a numérico, los errores se convierten en NaN\n",
    "for col in cols_a_convertir:\n",
    "    df[col] = pd.to_numeric(df[col], errors=\"coerce\")\n",
    "\n",
    "print(\"Columnas convertidas a numéricas correctamente.\")\n",
    "\n",
    "\n",
    "# Cantidad de vacíos y porcentaje por columna\n",
    "vacios = df.isna().sum()  # cuenta NaN por columna\n",
    "porcentaje = (vacios / len(df) * 100).round(2)  # calcula el % respecto al total de filas\n",
    "\n",
    "# Crear un DataFrame resumido\n",
    "resumen_vacios = pd.DataFrame({\n",
    "    \"Columnas\": df.columns,\n",
    "    \"Cantidad vacíos\": vacios.values,\n",
    "    \"Porcentaje vacíos\": porcentaje.values\n",
    "})\n",
    "\n",
    "print(resumen_vacios)\n",
    "\n",
    "# Filtrar filas donde id_geo sea \"DESCONOCIDO\" (ignorando mayúsculas/minúsculas)\n",
    "desconocidos = df[df['id_geo___ca'].str.upper() == 'DESCONOCIDO']\n",
    "\n",
    "# Contar la cantidad de entradas por provincia dentro de desconocidos\n",
    "resumen_provincias = desconocidos['comunidad_provincia'].value_counts().sort_values(ascending=False)\n",
    "\n",
    "print(resumen_provincias)\n",
    "\n",
    "\n",
    "\n",
    "# Encuentra el índice de las filas a eliminar\n",
    "indices = df[df['id_geo___ca'] == 'DESCONOCIDO'].index\n",
    "\n",
    "# Elimina esas filas\n",
    "df.drop(indices, inplace=True)\n",
    "\n",
    "# Cambiar nombre de la columna\n",
    "df = df.rename(columns={\"filename\": \"periodo\"})\n",
    "\n",
    "# Quitar todo lo que hay después del punto (.) en cada valor de la columna Periodo\n",
    "df[\"periodo\"] = df[\"periodo\"].str.split(\".\").str[0]\n",
    "\n",
    "df[[\"año\", \"trimestre\"]] = df[\"periodo\"].str.split(\"_\", expand=True)\n",
    "df[\"trimestre\"] = df[\"trimestre\"].str.extract(r'(\\d+)')  # Extrae solo el número\n",
    "\n",
    "\n",
    "df = df.drop(columns=[\"periodo\"])\n",
    "df['id_geo___ca'].value_counts()\n",
    "\n"
   ]
  },
  {
   "cell_type": "code",
   "execution_count": 5,
   "id": "630893de",
   "metadata": {},
   "outputs": [
    {
     "name": "stdout",
     "output_type": "stream",
     "text": [
      "id_geo___ca\n",
      "castilla y leon         18\n",
      "castilla-la mancha      18\n",
      "comunitat valenciana    18\n",
      "extremadura             18\n",
      "galicia                 18\n",
      "Name: count, dtype: int64\n"
     ]
    }
   ],
   "source": [
    "import os\n",
    "\n",
    "\n",
    "# Filtrar solo las entradas NO numéricas\n",
    "df_non_numeric = df[pd.to_numeric(df['id_geo___ca'], errors='coerce').isna()]\n",
    "\n",
    "# Revisar valores únicos\n",
    "print(df_non_numeric['id_geo___ca'].value_counts())\n"
   ]
  },
  {
   "cell_type": "code",
   "execution_count": 6,
   "id": "4c1d0246",
   "metadata": {},
   "outputs": [
    {
     "name": "stdout",
     "output_type": "stream",
     "text": [
      "Series([], Name: count, dtype: int64)\n"
     ]
    }
   ],
   "source": [
    "df = df[pd.to_numeric(df['id_geo___ca'], errors='coerce').notna()]\n",
    "df_non_numeric = df[pd.to_numeric(df['id_geo___ca'], errors='coerce').isna()]\n",
    "print(df_non_numeric['id_geo___ca'].value_counts())"
   ]
  },
  {
   "cell_type": "code",
   "execution_count": 7,
   "id": "746ba7bc",
   "metadata": {},
   "outputs": [
    {
     "name": "stdout",
     "output_type": "stream",
     "text": [
      "Archivo guardado en: C:\\Users\\juana\\Desktop\\liquideuda_project\\datasets_clean\\EPC5_clean.csv\n"
     ]
    }
   ],
   "source": [
    "\n",
    "\n",
    "# Definir ruta destino\n",
    "ruta_destino = r\"C:\\Users\\juana\\Desktop\\liquideuda_project\\datasets_clean\"\n",
    "\n",
    "# Guardar CSV en la ruta destino\n",
    "ruta_csv = os.path.join(ruta_destino, \"EPC5_clean.csv\")\n",
    "df.to_csv(ruta_csv, index=False, encoding=\"utf-8-sig\")\n",
    "\n",
    "print(f\"Archivo guardado en: {ruta_csv}\")"
   ]
  },
  {
   "cell_type": "code",
   "execution_count": 8,
   "id": "080f10cf",
   "metadata": {},
   "outputs": [
    {
     "data": {
      "text/plain": [
       "Index(['id_geo___ca', 'comunidad_provincia', 'total', 'v_menos_de_025',\n",
       "       'v_entre_025_y_05', 'v_entre_05_y_1', 'v_entre_1_y_2', 'v_entre_2_y_5',\n",
       "       'v_entre_5_y_10', 'v_10_o_mas', 'sd', 'año', 'trimestre'],\n",
       "      dtype='object')"
      ]
     },
     "execution_count": 8,
     "metadata": {},
     "output_type": "execute_result"
    }
   ],
   "source": [
    "df.columns"
   ]
  }
 ],
 "metadata": {
  "kernelspec": {
   "display_name": "base",
   "language": "python",
   "name": "python3"
  },
  "language_info": {
   "codemirror_mode": {
    "name": "ipython",
    "version": 3
   },
   "file_extension": ".py",
   "mimetype": "text/x-python",
   "name": "python",
   "nbconvert_exporter": "python",
   "pygments_lexer": "ipython3",
   "version": "3.12.4"
  }
 },
 "nbformat": 4,
 "nbformat_minor": 5
}

{
 "cells": [
  {
   "cell_type": "code",
   "execution_count": 51,
   "id": "e543b6b7",
   "metadata": {},
   "outputs": [
    {
     "name": "stdout",
     "output_type": "stream",
     "text": [
      "Comunidades Autónomas en df2 (Paro):\n",
      "['Total Nacional' '01 Andalucía' '02 Aragón' '03 Asturias, Principado de'\n",
      " '04 Balears, Illes' '05 Canarias' '06 Cantabria' '07 Castilla y León'\n",
      " '08 Castilla - La Mancha' '09 Cataluña' '10 Comunitat Valenciana'\n",
      " '11 Extremadura' '12 Galicia' '13 Madrid, Comunidad de'\n",
      " '14 Murcia, Región de' '15 Navarra, Comunidad Foral de' '16 País Vasco'\n",
      " '17 Rioja, La' '18 Ceuta' '19 Melilla']\n"
     ]
    }
   ],
   "source": [
    "import pandas as pd\n",
    "\n",
    "# ============================\n",
    "# 1. Cargar datasets\n",
    "# ============================\n",
    "df1 = pd.read_csv(\"C:/Users/juana/Desktop/liquideuda_project/datasets_clean/merged_registradores.csv\")\n",
    "df2 = pd.read_csv(\"C:/Users/juana/Desktop/liquideuda_project/originales/INE_PARO_EDAD_SEXO_CA.csv\", sep=\";\")\n",
    "\n",
    "# ============================\n",
    "# 2. Explorar las CCAA en df2 (paro)\n",
    "# ============================\n",
    "print(\"Comunidades Autónomas en df2 (Paro):\")\n",
    "print(df2[\"Comunidades y Ciudades Autónomas\"].unique())\n",
    "\n",
    "\n"
   ]
  },
  {
   "cell_type": "code",
   "execution_count": null,
   "id": "5c274c70",
   "metadata": {},
   "outputs": [],
   "source": []
  },
  {
   "cell_type": "code",
   "execution_count": 52,
   "id": "8c7e7393",
   "metadata": {},
   "outputs": [
    {
     "data": {
      "text/plain": [
       "Index(['Sexo', 'Comunidades y Ciudades Autónomas', 'Edad', 'Periodo', 'Total'], dtype='object')"
      ]
     },
     "execution_count": 52,
     "metadata": {},
     "output_type": "execute_result"
    }
   ],
   "source": [
    "df2.columns"
   ]
  },
  {
   "cell_type": "code",
   "execution_count": 53,
   "id": "0f963086",
   "metadata": {},
   "outputs": [
    {
     "name": "stdout",
     "output_type": "stream",
     "text": [
      "Valores únicos después del renombrado:\n",
      "Sexo: ['Todos' 'Hombres' 'Mujeres']\n",
      "CCAA: ['España' 'Andalucia' 'Aragon' 'Asturias' 'Baleares' 'Canarias'\n",
      " 'Cantabria' 'Castilla y Leon' 'Castilla La Mancha' 'Cataluña' 'Valencia'\n",
      " 'Extremadura' 'Galicia' 'Madrid' 'Murcia' 'Navarra' 'Pais Vasco'\n",
      " 'La Rioja' 'Ceuta' 'Melilla']\n",
      "Edad: ['Todos' 'Menores25' '25 y más años' 'De 16 a 19 años' 'De 20 a 24 años'\n",
      " '25a54' 'De 55 y más años']\n"
     ]
    }
   ],
   "source": [
    "# ============================\n",
    "# 1. Diccionarios de renombrado\n",
    "# ============================\n",
    "\n",
    "# Normalizar valores de Sexo\n",
    "sexo_map = {\n",
    "    \"Ambos sexos\": \"Todos\",\n",
    "    \"Hombres\": \"Hombres\",\n",
    "    \"Mujeres\": \"Mujeres\"\n",
    "}\n",
    "\n",
    "# Normalizar nombres de Comunidades Autónomas\n",
    "ccaa_map = {\n",
    "    \"Total Nacional\": \"España\",\n",
    "    \"01 Andalucía\": \"Andalucia\",\n",
    "    \"02 Aragón\": \"Aragon\",\n",
    "    \"03 Asturias, Principado de\": \"Asturias\",\n",
    "    \"04 Balears, Illes\": \"Baleares\",\n",
    "    \"05 Canarias\": \"Canarias\",\n",
    "    \"06 Cantabria\": \"Cantabria\",\n",
    "    \"07 Castilla y León\": \"Castilla y Leon\",\n",
    "    \"08 Castilla - La Mancha\": \"Castilla La Mancha\",\n",
    "    \"09 Cataluña\": \"Cataluña\",\n",
    "    \"10 Comunitat Valenciana\": \"Valencia\",\n",
    "    \"11 Extremadura\": \"Extremadura\",\n",
    "    \"12 Galicia\": \"Galicia\",\n",
    "    \"13 Madrid, Comunidad de\": \"Madrid\",\n",
    "    \"14 Murcia, Región de\": \"Murcia\",\n",
    "    \"15 Navarra, Comunidad Foral de\": \"Navarra\",\n",
    "    \"16 País Vasco\": \"Pais Vasco\",\n",
    "    \"17 Rioja, La\": \"La Rioja\",\n",
    "    \"18 Ceuta\": \"Ceuta\",\n",
    "    \"19 Melilla\": \"Melilla\"\n",
    "}\n",
    "\n",
    "# Normalizar valores de Edad\n",
    "edad_map = {\n",
    "    \"Total\": \"Todos\",\n",
    "    \"Menores de 25 años\": \"Menores25\",\n",
    "    \"De 25 a 54 años\": \"25a54\",\n",
    "    \"55 y más años\": \"55ymas\"\n",
    "}\n",
    "\n",
    "# ============================\n",
    "# 2. Aplicar cambios\n",
    "# ============================\n",
    "df2[\"Sexo\"] = df2[\"Sexo\"].replace(sexo_map)\n",
    "df2[\"Comunidades y Ciudades Autónomas\"] = df2[\"Comunidades y Ciudades Autónomas\"].replace(ccaa_map)\n",
    "df2[\"Edad\"] = df2[\"Edad\"].replace(edad_map)\n",
    "\n",
    "# ============================\n",
    "# 3. Validar\n",
    "# ============================\n",
    "print(\"Valores únicos después del renombrado:\")\n",
    "print(\"Sexo:\", df2[\"Sexo\"].unique())\n",
    "print(\"CCAA:\", df2[\"Comunidades y Ciudades Autónomas\"].unique())\n",
    "print(\"Edad:\", df2[\"Edad\"].unique())\n"
   ]
  },
  {
   "cell_type": "code",
   "execution_count": 54,
   "id": "253dc091",
   "metadata": {},
   "outputs": [
    {
     "name": "stdout",
     "output_type": "stream",
     "text": [
      "count    39330.000000\n",
      "mean        24.654217\n",
      "std         18.585995\n",
      "min          0.000000\n",
      "25%         11.010000\n",
      "50%         18.850000\n",
      "75%         32.760000\n",
      "max        100.000000\n",
      "Name: Total, dtype: float64\n",
      "0    10.29\n",
      "1    11.36\n",
      "2    10.61\n",
      "3    11.21\n",
      "4    11.27\n",
      "5    12.29\n",
      "6    11.80\n",
      "7    11.89\n",
      "8    11.67\n",
      "9    13.38\n",
      "Name: Total, dtype: float64\n"
     ]
    }
   ],
   "source": [
    "# Asegurar que sea string primero\n",
    "df2[\"Total\"] = df2[\"Total\"].astype(str)\n",
    "\n",
    "# Reemplazar comas decimales por puntos\n",
    "df2[\"Total\"] = df2[\"Total\"].str.replace(\",\", \".\", regex=False)\n",
    "\n",
    "# Convertir a float\n",
    "df2[\"Total\"] = pd.to_numeric(df2[\"Total\"], errors=\"coerce\")\n",
    "\n",
    "# Verificar\n",
    "print(df2[\"Total\"].describe())\n",
    "print(df2[\"Total\"].head(10))\n"
   ]
  },
  {
   "cell_type": "code",
   "execution_count": 55,
   "id": "94d9f7af",
   "metadata": {},
   "outputs": [
    {
     "name": "stdout",
     "output_type": "stream",
     "text": [
      "Index(['sexo', 'comunidad_autonoma', 'edad', 'periodo', 'tasa_paro'], dtype='object')\n"
     ]
    }
   ],
   "source": [
    "# Renombrar columnas de df2\n",
    "df2 = df2.rename(columns={\n",
    "    \"Sexo\": \"sexo\",\n",
    "    \"Comunidades y Ciudades Autónomas\": \"comunidad_autonoma\",\n",
    "    \"Edad\": \"edad\",\n",
    "    \"Periodo\": \"periodo\",\n",
    "    \"Total\": \"tasa_paro\"\n",
    "})\n",
    "\n",
    "print(df2.columns)"
   ]
  },
  {
   "cell_type": "code",
   "execution_count": 56,
   "id": "833210fa",
   "metadata": {},
   "outputs": [
    {
     "name": "stdout",
     "output_type": "stream",
     "text": [
      "        comunidad_provincia comunidad_autonoma\n",
      "0                   Almería          Andalucia\n",
      "18                    Cádiz          Andalucia\n",
      "36                  Córdoba          Andalucia\n",
      "54                  Granada          Andalucia\n",
      "72                   Huelva          Andalucia\n",
      "90                     Jaén          Andalucia\n",
      "108                  Málaga          Andalucia\n",
      "126                 Sevilla          Andalucia\n",
      "144                  Huesca             Aragon\n",
      "162                  Teruel             Aragon\n",
      "180                Zaragoza             Aragon\n",
      "198                Asturias           Asturias\n",
      "216          Balears, Illes           Baleares\n",
      "234  Santa Cruz de Tenerife           Canarias\n",
      "252                Canarias           Canarias\n",
      "270               Cantabria          Cantabria\n",
      "288                   Ávila    Castilla y Leon\n",
      "306                  Burgos    Castilla y Leon\n",
      "324                    León    Castilla y Leon\n",
      "342                Palencia    Castilla y Leon\n"
     ]
    }
   ],
   "source": [
    "# ============================\n",
    "# 3. Crear mapeo provincia → CCAA en df1\n",
    "# ============================\n",
    "# Diccionario provincia → Comunidad Autónoma (normalizada)\n",
    "provincia_to_ccaa = {\n",
    "    # Andalucía\n",
    "    \"Almería\": \"Andalucia\",\n",
    "    \"Cádiz\": \"Andalucia\",\n",
    "    \"Córdoba\": \"Andalucia\",\n",
    "    \"Granada\": \"Andalucia\",\n",
    "    \"Huelva\": \"Andalucia\",\n",
    "    \"Jaén\": \"Andalucia\",\n",
    "    \"Málaga\": \"Andalucia\",\n",
    "    \"Sevilla\": \"Andalucia\",\n",
    "\n",
    "    # Aragón\n",
    "    \"Huesca\": \"Aragon\",\n",
    "    \"Teruel\": \"Aragon\",\n",
    "    \"Zaragoza\": \"Aragon\",\n",
    "    \"Aragón\": \"Aragon\",\n",
    "\n",
    "    # Asturias\n",
    "    \"Asturias\": \"Asturias\",\n",
    "\n",
    "    # Baleares\n",
    "    \"Balears, Illes\": \"Baleares\",\n",
    "\n",
    "    # Canarias\n",
    "    \"Palmas, Las\": \"Canarias\",\n",
    "    \"Santa Cruz de Tenerife\": \"Canarias\",\n",
    "    \"Canarias\": \"Canarias\",\n",
    "\n",
    "    # Cantabria\n",
    "    \"Cantabria\": \"Cantabria\",\n",
    "\n",
    "    # Castilla y León\n",
    "    \"Ávila\": \"Castilla y Leon\",\n",
    "    \"Burgos\": \"Castilla y Leon\",\n",
    "    \"León\": \"Castilla y Leon\",\n",
    "    \"Palencia\": \"Castilla y Leon\",\n",
    "    \"Salamanca\": \"Castilla y Leon\",\n",
    "    \"Segovia\": \"Castilla y Leon\",\n",
    "    \"Soria\": \"Castilla y Leon\",\n",
    "    \"Valladolid\": \"Castilla y Leon\",\n",
    "    \"Zamora\": \"Castilla y Leon\",\n",
    "\n",
    "    # Castilla-La Mancha\n",
    "    \"Albacete\": \"Castilla La Mancha\",\n",
    "    \"Ciudad Real\": \"Castilla La Mancha\",\n",
    "    \"Cuenca\": \"Castilla La Mancha\",\n",
    "    \"Guadalajara\": \"Castilla La Mancha\",\n",
    "    \"Toledo\": \"Castilla La Mancha\",\n",
    "\n",
    "    # Cataluña\n",
    "    \"Barcelona\": \"Cataluña\",\n",
    "    \"Girona\": \"Cataluña\",\n",
    "    \"Lleida\": \"Cataluña\",\n",
    "    \"Tarragona\": \"Cataluña\",\n",
    "\n",
    "    # Comunitat Valenciana\n",
    "    \"Alicante/Alacant\": \"Valencia\",\n",
    "    \"Castellón/Castelló\": \"Valencia\",\n",
    "    \"Valencia/València\": \"Valencia\",\n",
    "    \"Valencia\": \"Valencia\",\n",
    "\n",
    "    # Extremadura\n",
    "    \"Badajoz\": \"Extremadura\",\n",
    "    \"Cáceres\": \"Extremadura\",\n",
    "\n",
    "    # Galicia\n",
    "    \"Coruña, A\": \"Galicia\",\n",
    "    \"Lugo\": \"Galicia\",\n",
    "    \"Ourense\": \"Galicia\",\n",
    "    \"Pontevedra\": \"Galicia\",\n",
    "\n",
    "    # Madrid\n",
    "    \"Madrid\": \"Madrid\",\n",
    "\n",
    "    # Murcia\n",
    "    \"Murcia\": \"Murcia\",\n",
    "\n",
    "    # Navarra\n",
    "    \"Navarra\": \"Navarra\",\n",
    "\n",
    "    # País Vasco\n",
    "    \"Araba/Álava\": \"Pais Vasco\",\n",
    "    \"Bizkaia\": \"Pais Vasco\",\n",
    "    \"Gipuzkoa\": \"Pais Vasco\",\n",
    "\n",
    "    # La Rioja\n",
    "    \"Rioja, La\": \"La Rioja\",\n",
    "\n",
    "    # Ceuta y Melilla\n",
    "    \"Ceuta\": \"Ceuta\",\n",
    "    \"Melilla\": \"Melilla\"\n",
    "}\n",
    "\n",
    "# Crear nueva columna en dataset 1 con la comunidad correspondiente\n",
    "import pandas as pd\n",
    "\n",
    "df1 = pd.read_csv(\"C:/Users/juana/Desktop/liquideuda_project/datasets_clean/merged_registradores.csv\")\n",
    "\n",
    "df1[\"comunidad_autonoma\"] = df1[\"comunidad_provincia\"].map(provincia_to_ccaa)\n",
    "\n",
    "# Validar\n",
    "print(df1[[\"comunidad_provincia\", \"comunidad_autonoma\"]].drop_duplicates().head(20))\n"
   ]
  },
  {
   "cell_type": "code",
   "execution_count": 57,
   "id": "e5a5ffbf",
   "metadata": {},
   "outputs": [
    {
     "name": "stdout",
     "output_type": "stream",
     "text": [
      "CCAA: ['Andalucia' 'Aragon' 'Asturias' 'Baleares' 'Canarias' 'Cantabria'\n",
      " 'Castilla y Leon' 'Valencia' 'Castilla La Mancha' 'Cataluña'\n",
      " 'Extremadura' 'Galicia' 'Madrid' 'Murcia' 'Navarra' 'Pais Vasco' 'Ceuta'\n",
      " 'Melilla']\n"
     ]
    }
   ],
   "source": [
    "print(\"CCAA:\", df1[\"comunidad_autonoma\"].unique())"
   ]
  },
  {
   "cell_type": "code",
   "execution_count": 58,
   "id": "0f4b6ee5",
   "metadata": {},
   "outputs": [
    {
     "name": "stdout",
     "output_type": "stream",
     "text": [
      "Provincias con comunidad_autonoma = NaN:\n",
      "Empty DataFrame\n",
      "Columns: [comunidad_provincia, n_nulos]\n",
      "Index: []\n"
     ]
    }
   ],
   "source": [
    "# Filtrar solo filas donde la comunidad_autonoma es NaN\n",
    "nan_provincias = (\n",
    "    df1[df1[\"comunidad_autonoma\"].isna()]\n",
    "    .groupby(\"comunidad_provincia\")\n",
    "    .size()\n",
    "    .reset_index(name=\"n_nulos\")\n",
    "    .sort_values(\"n_nulos\", ascending=False)\n",
    ")\n",
    "\n",
    "print(\"Provincias con comunidad_autonoma = NaN:\")\n",
    "print(nan_provincias)\n",
    "\n"
   ]
  },
  {
   "cell_type": "markdown",
   "id": "72cb9cda",
   "metadata": {},
   "source": [
    "CAMBIAR PERIODO A DOS CAMPOS"
   ]
  },
  {
   "cell_type": "code",
   "execution_count": 59,
   "id": "b8ec8ec6",
   "metadata": {},
   "outputs": [
    {
     "name": "stdout",
     "output_type": "stream",
     "text": [
      "[2025 2024 2023 2022 2021]\n"
     ]
    }
   ],
   "source": [
    "# Primero, crear las columnas 'año' y 'trimestre' desde 'periodo'\n",
    "df2[\"año\"] = df2[\"periodo\"].str[:4].astype(int)\n",
    "df2[\"trimestre\"] = df2[\"periodo\"].str[-1].astype(int)\n",
    "\n",
    "# Ahora filtramos solo desde 2021 en adelante\n",
    "df2 = df2[df2[\"año\"] >= 2021].reset_index(drop=True)\n",
    "\n",
    "# Verificamos que no queden años anteriores\n",
    "print(df2[\"año\"].unique())\n",
    "\n"
   ]
  },
  {
   "cell_type": "markdown",
   "id": "d951581e",
   "metadata": {},
   "source": [
    "INE_ ASALARIADOS X INDUSTRIAS"
   ]
  },
  {
   "cell_type": "code",
   "execution_count": 60,
   "id": "76ea4faf",
   "metadata": {},
   "outputs": [],
   "source": [
    "import pandas as pd\n",
    "import re\n",
    "\n",
    "\n",
    "\n",
    "# Leer el dataset original\n",
    "df3 = pd.read_csv(\n",
    "    r\"C:\\Users\\juana\\Desktop\\liquideuda_project\\originales\\INE_ASALARIADOS_INDUSTRIAS_PROV.csv\",\n",
    "    sep=\";\",\n",
    "    encoding=\"utf-8\"\n",
    ")\n",
    "\n",
    "# Renombrar columnas para estandarizar\n",
    "df3 = df3.rename(columns={\n",
    "    \"Provincias\": \"provincia\",\n",
    "    \"Divisiones CNAE\": \"industria_cnae\",\n",
    "    \"Flujos demográficos\": \"tipo_flujo\",  # altas / bajas\n",
    "    \"Periodo\": \"periodo\",\n",
    "    \"Total\": \"cantidad_flujo\"\n",
    "})\n",
    "\n",
    "# Crear columna comunidad_autonoma a partir de la provincia\n",
    "# --- 1. Limpiar nombres de provincia en df3 ---\n",
    "# Quitamos los números iniciales y espacios extra\n",
    "df3[\"provincia\"] = df3[\"provincia\"].apply(lambda x: re.sub(r\"^\\d+\\s*\", \"\", x))\n",
    "provincia_to_comunidad = {\n",
    "    \"Almería\": \"Andalucia\", \"Cádiz\": \"Andalucia\", \"Córdoba\": \"Andalucia\", \"Granada\": \"Andalucia\",\n",
    "    \"Huelva\": \"Andalucia\", \"Jaén\": \"Andalucia\", \"Málaga\": \"Andalucia\", \"Sevilla\": \"Andalucia\",\n",
    "    \"Huesca\": \"Aragon\", \"Teruel\": \"Aragon\", \"Zaragoza\": \"Aragon\",\n",
    "    \"Asturias\": \"Asturias\",\n",
    "    \"Balears, Illes\": \"Baleares\",\n",
    "    \"Palmas, Las\": \"Canarias\", \"Santa Cruz de Tenerife\": \"Canarias\",\n",
    "    \"Cantabria\": \"Cantabria\",\n",
    "    \"Ávila\": \"Castilla y Leon\", \"Burgos\": \"Castilla y Leon\", \"León\": \"Castilla y Leon\",\n",
    "    \"Palencia\": \"Castilla y Leon\", \"Salamanca\": \"Castilla y Leon\", \"Segovia\": \"Castilla y Leon\",\n",
    "    \"Soria\": \"Castilla y Leon\", \"Valladolid\": \"Castilla y Leon\", \"Zamora\": \"Castilla y Leon\",\n",
    "    \"Albacete\": \"Castilla La Mancha\", \"Ciudad Real\": \"Castilla La Mancha\", \"Cuenca\": \"Castilla La Mancha\",\n",
    "    \"Guadalajara\": \"Castilla La Mancha\", \"Toledo\": \"Castilla La Mancha\",\n",
    "    \"Barcelona\": \"Cataluña\", \"Girona\": \"Cataluña\", \"Lleida\": \"Cataluña\", \"Tarragona\": \"Cataluña\",\n",
    "    \"Alicante/Alacant\": \"Valencia\", \"Castellón/Castelló\": \"Valencia\", \"Valencia/València\": \"Valencia\",\n",
    "    \"Badajoz\": \"Extremadura\", \"Cáceres\": \"Extremadura\",\n",
    "    \"Coruña, A\": \"Galicia\", \"Lugo\": \"Galicia\", \"Ourense\": \"Galicia\", \"Pontevedra\": \"Galicia\",\n",
    "    \"Madrid\": \"Madrid\",\n",
    "    \"Murcia\": \"Murcia\",\n",
    "    \"Navarra\": \"Navarra\",\n",
    "    \"Araba/Álava\": \"Pais Vasco\", \"Bizkaia\": \"Pais Vasco\", \"Gipuzkoa\": \"Pais Vasco\",\n",
    "    \"Rioja, La\": \"La Rioja\",\n",
    "    \"Ceuta\": \"Ceuta\",\n",
    "    \"Melilla\": \"Melilla\"\n",
    "}\n",
    "\n",
    "df3[\"comunidad_autonoma\"] = df3[\"provincia\"].map(provincia_to_comunidad)\n",
    "\n",
    "# ---  Excluir \"Total Nacional\" porque no es provincia ---\n",
    "df3 = df3[df3[\"provincia\"] != \"Total Nacional\"]\n",
    "\n",
    "# Separar periodo en año y trimestre\n",
    "df3[\"año\"] = df3[\"periodo\"].str[:4].astype(int)\n",
    "df3[\"trimestre\"] = df3[\"periodo\"].str[-2:].str.replace(\"T\", \"\").astype(int)\n",
    "\n",
    "# Reordenar columnas para consistencia\n",
    "df3 = df3[[\n",
    "    \"provincia\", \"comunidad_autonoma\", \"industria_cnae\", \"tipo_flujo\", \n",
    "    \"año\", \"trimestre\", \"cantidad_flujo\"\n",
    "]]\n",
    "\n",
    "\n"
   ]
  },
  {
   "cell_type": "markdown",
   "id": "6f09c065",
   "metadata": {},
   "source": [
    "INFLACION INE"
   ]
  },
  {
   "cell_type": "code",
   "execution_count": null,
   "id": "c68fc44a",
   "metadata": {},
   "outputs": [
    {
     "data": {
      "text/plain": [
       "Index(['provincia', 'comunidad_autonoma', 'industria_cnae', 'tipo_flujo',\n",
       "       'año', 'trimestre', 'cantidad_flujo'],\n",
       "      dtype='object')"
      ]
     },
     "execution_count": 61,
     "metadata": {},
     "output_type": "execute_result"
    }
   ],
   "source": []
  },
  {
   "cell_type": "code",
   "execution_count": 62,
   "id": "b545697e",
   "metadata": {},
   "outputs": [
    {
     "name": "stdout",
     "output_type": "stream",
     "text": [
      "🔍 Valores nulos en comunidad_autonoma:\n",
      "0\n",
      "\n",
      "🔍 Provincias sin comunidad asignada (si hay):\n",
      "[]\n",
      "\n",
      "🔍 Valores nulos en año y trimestre:\n",
      "año          0\n",
      "trimestre    0\n",
      "dtype: int64\n",
      "\n",
      "🔍 Rango de años detectados: 2020 - 2022\n",
      "🔍 Trimestres únicos detectados: [1, 2, 3, 4]\n",
      "\n",
      "✅ Los trimestres están bien definidos (solo 1–4).\n"
     ]
    }
   ],
   "source": [
    "# ✅ Validación de comunidad_autonoma\n",
    "print(\"🔍 Valores nulos en comunidad_autonoma:\")\n",
    "print(df3[\"comunidad_autonoma\"].isna().sum())\n",
    "\n",
    "print(\"\\n🔍 Provincias sin comunidad asignada (si hay):\")\n",
    "print(df3[df3[\"comunidad_autonoma\"].isna()][\"provincia\"].unique())\n",
    "\n",
    "# ✅ Validación de periodo -> año y trimestre\n",
    "print(\"\\n🔍 Valores nulos en año y trimestre:\")\n",
    "print(df3[[\"año\", \"trimestre\"]].isna().sum())\n",
    "\n",
    "print(\"\\n🔍 Rango de años detectados:\", df3[\"año\"].min(), \"-\", df3[\"año\"].max())\n",
    "print(\"🔍 Trimestres únicos detectados:\", sorted(df3[\"trimestre\"].unique()))\n",
    "\n",
    "# Extra: verificar que trimestre solo contiene 1–4\n",
    "if set(df3[\"trimestre\"].unique()) <= {1, 2, 3, 4}:\n",
    "    print(\"\\n✅ Los trimestres están bien definidos (solo 1–4).\")\n",
    "else:\n",
    "    print(\"\\n⚠️ Atención: hay trimestres fuera del rango 1–4.\")\n"
   ]
  },
  {
   "cell_type": "code",
   "execution_count": 63,
   "id": "4ebfb9f1",
   "metadata": {},
   "outputs": [
    {
     "data": {
      "text/plain": [
       "Index(['id_geo___ca', 'comunidad_provincia', 's_limitadas', 's_anonimas',\n",
       "       'sotras', 'personas_fisicas', 'año', 'trimestre', 't_voluntario',\n",
       "       't_necesario', 't_consecutivo', 'c_ordinario', 'c_especial',\n",
       "       'c_sin_masa', 'a', 'b', 'c', 'd', 'e', 'f', 'g', 'h', 'i', 'j', 'k',\n",
       "       'l', 'm', 'n', 'o', 'p', 'q', 'r', 's', 'na0', 'na1_2', 'na3_5',\n",
       "       'na6_9', 'na10_19', 'na20_49', 'na50_99', 'na100_o_mas', 'sd_x',\n",
       "       'v_menos_de_025', 'v_entre_025_y_05', 'v_entre_05_y_1', 'v_entre_1_y_2',\n",
       "       'v_entre_2_y_5', 'v_entre_5_y_10', 'v_10_o_mas', 'sd_y', 'a_hasta_4',\n",
       "       'a_entre_5_y_8', 'a_entre_9_y_12', 'a_entre_13_y_16', 'a_entre_17_y_19',\n",
       "       'a_20_o_mas', 'comunidad_autonoma'],\n",
       "      dtype='object')"
      ]
     },
     "execution_count": 63,
     "metadata": {},
     "output_type": "execute_result"
    }
   ],
   "source": [
    "df1.columns"
   ]
  },
  {
   "cell_type": "code",
   "execution_count": 64,
   "id": "42925f25",
   "metadata": {},
   "outputs": [
    {
     "name": "stdout",
     "output_type": "stream",
     "text": [
      "\n",
      "DF1 (registradores):\n",
      "id_geo___ca               int64\n",
      "comunidad_provincia    category\n",
      "s_limitadas             float64\n",
      "s_anonimas              float64\n",
      "sotras                  float64\n",
      "personas_fisicas        float64\n",
      "año                       Int64\n",
      "trimestre                 Int64\n",
      "t_voluntario            float64\n",
      "t_necesario             float64\n",
      "t_consecutivo           float64\n",
      "c_ordinario             float64\n",
      "c_especial              float64\n",
      "c_sin_masa              float64\n",
      "a                       float64\n",
      "dtype: object\n",
      "\n",
      "DF2 (paro):\n",
      "sexo                  category\n",
      "comunidad_autonoma    category\n",
      "edad                  category\n",
      "periodo               category\n",
      "tasa_paro              float64\n",
      "año                      Int64\n",
      "trimestre                Int64\n",
      "dtype: object\n",
      "\n",
      "DF3 (asalariados):\n",
      "provincia             category\n",
      "comunidad_autonoma    category\n",
      "industria_cnae        category\n",
      "tipo_flujo            category\n",
      "año                      Int64\n",
      "trimestre                Int64\n",
      "cantidad_flujo         float64\n",
      "dtype: object\n"
     ]
    }
   ],
   "source": [
    "import pandas as pd\n",
    "\n",
    "# ---------- DF1: registradores ----------\n",
    "num_cols_df1 = [c for c in df1.columns if c not in [\"comunidad_provincia\", \"comunidad_autonoma\"]]\n",
    "\n",
    "for col in num_cols_df1:\n",
    "    df1[col] = pd.to_numeric(df1[col], errors=\"coerce\")\n",
    "\n",
    "df1[\"año\"] = df1[\"año\"].astype(\"Int64\")\n",
    "df1[\"trimestre\"] = df1[\"trimestre\"].astype(\"Int64\")\n",
    "df1[\"comunidad_provincia\"] = df1[\"comunidad_provincia\"].astype(\"category\")\n",
    "df1[\"comunidad_autonoma\"] = df1[\"comunidad_autonoma\"].astype(\"category\")\n",
    "\n",
    "\n",
    "# ---------- DF2: paro ----------\n",
    "df2[\"tasa_paro\"] = pd.to_numeric(df2[\"tasa_paro\"], errors=\"coerce\")\n",
    "df2[\"año\"] = df2[\"año\"].astype(\"Int64\")\n",
    "df2[\"trimestre\"] = df2[\"trimestre\"].astype(\"Int64\")\n",
    "df2[\"sexo\"] = df2[\"sexo\"].astype(\"category\")\n",
    "df2[\"comunidad_autonoma\"] = df2[\"comunidad_autonoma\"].astype(\"category\")\n",
    "df2[\"edad\"] = df2[\"edad\"].astype(\"category\")\n",
    "df2[\"periodo\"] = df2[\"periodo\"].astype(\"category\")\n",
    "\n",
    "\n",
    "# ---------- DF3: asalariados ----------\n",
    "df3[\"cantidad_flujo\"] = pd.to_numeric(df3[\"cantidad_flujo\"], errors=\"coerce\")\n",
    "df3[\"año\"] = df3[\"año\"].astype(\"Int64\")\n",
    "df3[\"trimestre\"] = df3[\"trimestre\"].astype(\"Int64\")\n",
    "df3[\"provincia\"] = df3[\"provincia\"].astype(\"category\")\n",
    "df3[\"comunidad_autonoma\"] = df3[\"comunidad_autonoma\"].astype(\"category\")\n",
    "df3[\"industria_cnae\"] = df3[\"industria_cnae\"].astype(\"category\")\n",
    "df3[\"tipo_flujo\"] = df3[\"tipo_flujo\"].astype(\"category\")\n",
    "\n",
    "# ---------- Confirmación ----------\n",
    "print(\"\\nDF1 (registradores):\")\n",
    "print(df1.dtypes.head(15))\n",
    "print(\"\\nDF2 (paro):\")\n",
    "print(df2.dtypes)\n",
    "print(\"\\nDF3 (asalariados):\")\n",
    "print(df3.dtypes)\n"
   ]
  },
  {
   "cell_type": "code",
   "execution_count": 65,
   "id": "26415a05",
   "metadata": {},
   "outputs": [
    {
     "name": "stdout",
     "output_type": "stream",
     "text": [
      "Archivos guardados en datasets_clean ✅\n"
     ]
    }
   ],
   "source": [
    "\n",
    "# Guardar df1\n",
    "df1.to_csv(r\"C:\\Users\\juana\\Desktop\\liquideuda_project\\datasets_clean\\merged_registradores.csv\", \n",
    "           index=False, encoding=\"utf-8-sig\")\n",
    "\n",
    "# Guardar df2\n",
    "df2.to_csv(r\"C:\\Users\\juana\\Desktop\\liquideuda_project\\datasets_clean\\paro_edad_sexo_ca_ine.csv\", \n",
    "           index=False, encoding=\"utf-8-sig\")\n",
    "\n",
    "# Guardar df3\n",
    "df3.to_csv(\n",
    "    r\"C:\\Users\\juana\\Desktop\\liquideuda_project\\datasets_clean\\asalariados_industria_ine.csv\",\n",
    "    index=False, encoding=\"utf-8-sig\"\n",
    ")\n",
    "\n",
    "\n",
    "print(\"Archivos guardados en datasets_clean ✅\")\n"
   ]
  }
 ],
 "metadata": {
  "kernelspec": {
   "display_name": "base",
   "language": "python",
   "name": "python3"
  },
  "language_info": {
   "codemirror_mode": {
    "name": "ipython",
    "version": 3
   },
   "file_extension": ".py",
   "mimetype": "text/x-python",
   "name": "python",
   "nbconvert_exporter": "python",
   "pygments_lexer": "ipython3",
   "version": "3.12.4"
  }
 },
 "nbformat": 4,
 "nbformat_minor": 5
}

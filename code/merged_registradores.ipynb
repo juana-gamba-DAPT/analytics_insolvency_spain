{
 "cells": [
  {
   "cell_type": "code",
   "execution_count": 71,
   "id": "334fca07",
   "metadata": {},
   "outputs": [],
   "source": [
    "import pandas as pd"
   ]
  },
  {
   "cell_type": "code",
   "execution_count": 72,
   "id": "03b87c0b",
   "metadata": {},
   "outputs": [],
   "source": [
    "# --- 1. Cargar los CSV ---\n",
    "epc1 = pd.read_csv(\"C:/Users/juana/Desktop/liquideuda_project/datasets_clean/EPC1_clean.csv\")\n",
    "epc2 = pd.read_csv(\"C:/Users/juana/Desktop/liquideuda_project/datasets_clean/EPC2_clean.csv\")\n",
    "epc3 = pd.read_csv(\"C:/Users/juana/Desktop/liquideuda_project/datasets_clean/EPC3_clean.csv\")\n",
    "epc4 = pd.read_csv(\"C:/Users/juana/Desktop/liquideuda_project/datasets_clean/EPC4_clean.csv\")\n",
    "epc5 = pd.read_csv(\"C:/Users/juana/Desktop/liquideuda_project/datasets_clean/EPC5_clean.csv\")\n",
    "epc6 = pd.read_csv(\"C:/Users/juana/Desktop/liquideuda_project/datasets_clean/EPC6_clean.csv\")"
   ]
  },
  {
   "cell_type": "code",
   "execution_count": 73,
   "id": "ad259e04",
   "metadata": {},
   "outputs": [],
   "source": [
    "# --- 2. Eliminar la columna 'total' en todas ---\n",
    "for df in [epc1, epc2, epc3, epc4, epc5, epc6]:\n",
    "    if \"total\" in df.columns:\n",
    "        df.drop(columns=[\"total\"], inplace=True)\n",
    "\n",
    "# --- 2b. Agrupar epc2 para sumar físicas + empresas ---\n",
    "epc2 = (\n",
    "    epc2.groupby([\"id_geo___ca\", \"comunidad_provincia\", \"año\", \"trimestre\"], as_index=False)\n",
    "        .sum(numeric_only=True)\n",
    ")\n"
   ]
  },
  {
   "cell_type": "code",
   "execution_count": 74,
   "id": "32381708",
   "metadata": {},
   "outputs": [
    {
     "name": "stdout",
     "output_type": "stream",
     "text": [
      "Dimensiones finales: (882, 56)\n",
      "882 filas únicas\n",
      "   id_geo___ca comunidad_provincia  s_limitadas  s_anonimas  sotras  \\\n",
      "0          104             Almería          8.0         0.0     0.0   \n",
      "1          104             Almería         10.0         0.0     0.0   \n",
      "2          104             Almería         10.0         0.0     0.0   \n",
      "3          104             Almería         11.0         0.0     1.0   \n",
      "4          104             Almería          8.0         0.0     0.0   \n",
      "\n",
      "   personas_fisicas   año  trimestre  t_voluntario  t_necesario  ...  \\\n",
      "0              14.0  2021          1           9.0          0.0  ...   \n",
      "1              21.0  2021          2          10.0          0.0  ...   \n",
      "2              19.0  2021          3          12.0          0.0  ...   \n",
      "3              26.0  2021          4          17.0          0.0  ...   \n",
      "4              15.0  2022          1          11.0          0.0  ...   \n",
      "\n",
      "   v_entre_2_y_5  v_entre_5_y_10  v_10_o_mas  sd_y  a_hasta_4  a_entre_5_y_8  \\\n",
      "0            0.0             1.0         0.0   2.0        1.0            2.0   \n",
      "1            0.0             2.0         0.0   2.0        3.0            2.0   \n",
      "2            0.0             0.0         0.0   3.0        3.0            1.0   \n",
      "3            0.0             0.0         0.0   1.0        0.0            2.0   \n",
      "4            1.0             0.0         0.0   1.0        2.0            1.0   \n",
      "\n",
      "   a_entre_9_y_12  a_entre_13_y_16  a_entre_17_y_19  a_20_o_mas  \n",
      "0             2.0              2.0              0.0         1.0  \n",
      "1             3.0              0.0              1.0         1.0  \n",
      "2             4.0              1.0              1.0         0.0  \n",
      "3             4.0              2.0              2.0         2.0  \n",
      "4             1.0              1.0              2.0         1.0  \n",
      "\n",
      "[5 rows x 56 columns]\n"
     ]
    }
   ],
   "source": [
    "\n",
    "# --- 3. Unir todas las tablas progresivamente ---\n",
    "df_merged = epc1.merge(epc2, on=[\"id_geo___ca\",\"comunidad_provincia\",\"año\",\"trimestre\"], how=\"outer\") \\\n",
    "                .merge(epc3, on=[\"id_geo___ca\",\"comunidad_provincia\",\"año\",\"trimestre\"], how=\"outer\") \\\n",
    "                .merge(epc4, on=[\"id_geo___ca\",\"comunidad_provincia\",\"año\",\"trimestre\"], how=\"outer\") \\\n",
    "                .merge(epc5, on=[\"id_geo___ca\",\"comunidad_provincia\",\"año\",\"trimestre\"], how=\"outer\") \\\n",
    "                .merge(epc6, on=[\"id_geo___ca\",\"comunidad_provincia\",\"año\",\"trimestre\"], how=\"outer\")\n",
    "\n",
    "# --- 4. Verificar resultado ---\n",
    "print(\"Dimensiones finales:\", df_merged.shape)\n",
    "print(df_merged[[\"id_geo___ca\",\"comunidad_provincia\",\"año\",\"trimestre\"]].drop_duplicates().shape[0], \"filas únicas\")\n",
    "print(df_merged.head())"
   ]
  },
  {
   "cell_type": "code",
   "execution_count": 75,
   "id": "73fc6eac",
   "metadata": {},
   "outputs": [
    {
     "name": "stdout",
     "output_type": "stream",
     "text": [
      "Total de filas después del merge: 882\n",
      "Filas únicas por clave: 882\n",
      "✅ No hay duplicados en las claves, el merge está correcto.\n"
     ]
    }
   ],
   "source": [
    "# Ver cuántas filas totales hay\n",
    "print(\"Total de filas después del merge:\", len(df_merged))\n",
    "\n",
    "# Ver cuántas combinaciones únicas de clave hay\n",
    "unique_keys = df_merged.drop_duplicates(subset=[\"id_geo___ca\", \"comunidad_provincia\", \"año\", \"trimestre\"])\n",
    "print(\"Filas únicas por clave:\", len(unique_keys))\n",
    "\n",
    "# Comparar\n",
    "if len(df_merged) == len(unique_keys):\n",
    "    print(\"✅ No hay duplicados en las claves, el merge está correcto.\")\n",
    "else:\n",
    "    print(\"⚠️ Hay duplicados: el merge generó filas de más.\")\n",
    "    # Opcional: ver ejemplos de duplicados\n",
    "    dupes = df_merged[df_merged.duplicated(subset=[\"id_geo___ca\", \"comunidad_provincia\", \"año\", \"trimestre\"], keep=False)]\n",
    "    print(dupes.head())\n"
   ]
  },
  {
   "cell_type": "code",
   "execution_count": 76,
   "id": "071d704f",
   "metadata": {},
   "outputs": [
    {
     "name": "stdout",
     "output_type": "stream",
     "text": [
      "             columna  nulos  %_nulos\n",
      "2        s_limitadas      4     0.45\n",
      "3         s_anonimas      4     0.45\n",
      "4             sotras      4     0.45\n",
      "28                 o      2     0.23\n",
      "43  v_entre_025_y_05      2     0.23\n",
      "32                 s      2     0.23\n",
      "33               na0      2     0.23\n",
      "34             na1_2      2     0.23\n",
      "35             na3_5      2     0.23\n",
      "36             na6_9      2     0.23\n",
      "37           na10_19      2     0.23\n",
      "38           na20_49      2     0.23\n",
      "39           na50_99      2     0.23\n",
      "40       na100_o_mas      2     0.23\n",
      "41              sd_x      2     0.23\n",
      "42    v_menos_de_025      2     0.23\n",
      "45     v_entre_1_y_2      2     0.23\n",
      "44    v_entre_05_y_1      2     0.23\n",
      "30                 q      2     0.23\n",
      "46     v_entre_2_y_5      2     0.23\n"
     ]
    }
   ],
   "source": [
    "# --- 5. Validar vacíos en cada columna ---\n",
    "nulls = df_merged.isna().sum().reset_index()\n",
    "nulls.columns = [\"columna\", \"nulos\"]\n",
    "nulls[\"%_nulos\"] = (nulls[\"nulos\"] / len(df_merged) * 100).round(2)\n",
    "\n",
    "# Mostrar las primeras filas ordenadas por más vacíos\n",
    "print(nulls.sort_values(\"%_nulos\", ascending=False).head(20))\n",
    "\n",
    "\n"
   ]
  },
  {
   "cell_type": "code",
   "execution_count": 77,
   "id": "b2795f1a",
   "metadata": {},
   "outputs": [
    {
     "name": "stdout",
     "output_type": "stream",
     "text": [
      "Duplicados exactos: 0\n"
     ]
    }
   ],
   "source": [
    "print(\"Duplicados exactos:\", df_merged.duplicated().sum())\n"
   ]
  },
  {
   "cell_type": "code",
   "execution_count": 78,
   "id": "066f2dcf",
   "metadata": {},
   "outputs": [
    {
     "name": "stdout",
     "output_type": "stream",
     "text": [
      "id_geo___ca              int64\n",
      "comunidad_provincia     object\n",
      "s_limitadas            float64\n",
      "s_anonimas             float64\n",
      "sotras                 float64\n",
      "personas_fisicas       float64\n",
      "año                      int64\n",
      "trimestre                int64\n",
      "t_voluntario           float64\n",
      "t_necesario            float64\n",
      "t_consecutivo          float64\n",
      "c_ordinario            float64\n",
      "c_especial             float64\n",
      "c_sin_masa             float64\n",
      "a                      float64\n",
      "b                      float64\n",
      "c                      float64\n",
      "d                      float64\n",
      "e                      float64\n",
      "f                      float64\n",
      "g                      float64\n",
      "h                      float64\n",
      "i                      float64\n",
      "j                      float64\n",
      "k                      float64\n",
      "l                      float64\n",
      "m                      float64\n",
      "n                      float64\n",
      "o                      float64\n",
      "p                      float64\n",
      "q                      float64\n",
      "r                      float64\n",
      "s                      float64\n",
      "na0                    float64\n",
      "na1_2                  float64\n",
      "na3_5                  float64\n",
      "na6_9                  float64\n",
      "na10_19                float64\n",
      "na20_49                float64\n",
      "na50_99                float64\n",
      "na100_o_mas            float64\n",
      "sd_x                   float64\n",
      "v_menos_de_025         float64\n",
      "v_entre_025_y_05       float64\n",
      "v_entre_05_y_1         float64\n",
      "v_entre_1_y_2          float64\n",
      "v_entre_2_y_5          float64\n",
      "v_entre_5_y_10         float64\n",
      "v_10_o_mas             float64\n",
      "sd_y                   float64\n",
      "a_hasta_4              float64\n",
      "a_entre_5_y_8          float64\n",
      "a_entre_9_y_12         float64\n",
      "a_entre_13_y_16        float64\n",
      "a_entre_17_y_19        float64\n",
      "a_20_o_mas             float64\n",
      "dtype: object\n"
     ]
    }
   ],
   "source": [
    "print(df_merged.dtypes)\n"
   ]
  },
  {
   "cell_type": "code",
   "execution_count": 79,
   "id": "e44ec403",
   "metadata": {},
   "outputs": [
    {
     "name": "stdout",
     "output_type": "stream",
     "text": [
      "       id_geo___ca  s_limitadas  s_anonimas      sotras  personas_fisicas  \\\n",
      "count   882.000000   878.000000  878.000000  878.000000        882.000000   \n",
      "mean    799.122449    24.462415    1.502278    0.689066        120.575964   \n",
      "std     488.796872    55.759525    3.833403    1.460274        269.879789   \n",
      "min     104.000000     0.000000    0.000000    0.000000          0.000000   \n",
      "25%     407.000000     4.000000    0.000000    0.000000         13.000000   \n",
      "50%     747.000000     9.000000    0.000000    0.000000         40.000000   \n",
      "75%    1106.000000    20.000000    1.000000    1.000000        101.750000   \n",
      "max    1952.000000   423.000000   35.000000   10.000000       2801.000000   \n",
      "\n",
      "               año   trimestre  t_voluntario  t_necesario  t_consecutivo  ...  \\\n",
      "count   882.000000  882.000000    882.000000   882.000000     882.000000  ...   \n",
      "mean   2022.777778    2.388889    128.371882     0.680272      18.058957  ...   \n",
      "std       1.315430    1.113130    301.887099     1.697911      60.924759  ...   \n",
      "min    2021.000000    1.000000      0.000000     0.000000       0.000000  ...   \n",
      "25%    2022.000000    1.000000     12.000000     0.000000       0.000000  ...   \n",
      "50%    2023.000000    2.000000     37.000000     0.000000       2.000000  ...   \n",
      "75%    2024.000000    3.000000    112.000000     1.000000      12.000000  ...   \n",
      "max    2025.000000    4.000000   3178.000000    17.000000     656.000000  ...   \n",
      "\n",
      "       v_entre_2_y_5  v_entre_5_y_10  v_10_o_mas       sd_y   a_hasta_4  \\\n",
      "count     880.000000      880.000000  880.000000  880.00000  880.000000   \n",
      "mean        1.244318        0.451136    0.018182    6.58750    7.475000   \n",
      "std         2.837758        1.138777    0.149740   16.35608   19.290706   \n",
      "min         0.000000        0.000000    0.000000    0.00000    0.000000   \n",
      "25%         0.000000        0.000000    0.000000    1.00000    1.000000   \n",
      "50%         0.000000        0.000000    0.000000    2.00000    2.000000   \n",
      "75%         1.000000        0.000000    0.000000    5.00000    6.000000   \n",
      "max        24.000000       13.000000    2.000000  141.00000  169.000000   \n",
      "\n",
      "       a_entre_5_y_8  a_entre_9_y_12  a_entre_13_y_16  a_entre_17_y_19  \\\n",
      "count     880.000000      880.000000       880.000000        880.00000   \n",
      "mean        5.900000        3.159091         2.461364          1.62500   \n",
      "std        14.576353        7.465181         5.603782          3.68162   \n",
      "min         0.000000        0.000000         0.000000          0.00000   \n",
      "25%         1.000000        0.000000         0.000000          0.00000   \n",
      "50%         2.000000        1.000000         1.000000          0.00000   \n",
      "75%         5.000000        3.000000         2.000000          2.00000   \n",
      "max       137.000000       58.000000        48.000000         30.00000   \n",
      "\n",
      "       a_20_o_mas  \n",
      "count  880.000000  \n",
      "mean     5.973864  \n",
      "std     12.129487  \n",
      "min      0.000000  \n",
      "25%      1.000000  \n",
      "50%      2.000000  \n",
      "75%      5.000000  \n",
      "max     88.000000  \n",
      "\n",
      "[8 rows x 55 columns]\n"
     ]
    }
   ],
   "source": [
    "print(df_merged.describe())"
   ]
  },
  {
   "cell_type": "code",
   "execution_count": 80,
   "id": "3018407d",
   "metadata": {},
   "outputs": [
    {
     "name": "stdout",
     "output_type": "stream",
     "text": [
      "882 828\n"
     ]
    }
   ],
   "source": [
    "#cada entrada de provincia y periodo es unica\n",
    "print(len(df_merged), len(df_merged.drop_duplicates(subset=[\"id_geo___ca\",\"año\",\"trimestre\"])))\n"
   ]
  },
  {
   "cell_type": "code",
   "execution_count": 81,
   "id": "0d44e03b",
   "metadata": {},
   "outputs": [
    {
     "data": {
      "text/plain": [
       "Index(['id_geo___ca', 'comunidad_provincia', 's_limitadas', 's_anonimas',\n",
       "       'sotras', 'personas_fisicas', 'año', 'trimestre', 't_voluntario',\n",
       "       't_necesario', 't_consecutivo', 'c_ordinario', 'c_especial',\n",
       "       'c_sin_masa', 'a', 'b', 'c', 'd', 'e', 'f', 'g', 'h', 'i', 'j', 'k',\n",
       "       'l', 'm', 'n', 'o', 'p', 'q', 'r', 's', 'na0', 'na1_2', 'na3_5',\n",
       "       'na6_9', 'na10_19', 'na20_49', 'na50_99', 'na100_o_mas', 'sd_x',\n",
       "       'v_menos_de_025', 'v_entre_025_y_05', 'v_entre_05_y_1', 'v_entre_1_y_2',\n",
       "       'v_entre_2_y_5', 'v_entre_5_y_10', 'v_10_o_mas', 'sd_y', 'a_hasta_4',\n",
       "       'a_entre_5_y_8', 'a_entre_9_y_12', 'a_entre_13_y_16', 'a_entre_17_y_19',\n",
       "       'a_20_o_mas'],\n",
       "      dtype='object')"
      ]
     },
     "execution_count": 81,
     "metadata": {},
     "output_type": "execute_result"
    }
   ],
   "source": [
    "df_merged.columns"
   ]
  },
  {
   "cell_type": "code",
   "execution_count": 82,
   "id": "2bc9a683",
   "metadata": {},
   "outputs": [
    {
     "name": "stdout",
     "output_type": "stream",
     "text": [
      "   t_voluntario  t_necesario  t_consecutivo  total_insolvencias\n",
      "0           9.0          0.0           13.0                22.0\n",
      "1          10.0          0.0           21.0                31.0\n",
      "2          12.0          0.0           17.0                29.0\n",
      "3          17.0          0.0           21.0                38.0\n",
      "4          11.0          0.0           12.0                23.0\n"
     ]
    }
   ],
   "source": [
    "#total_invsolvencias\n",
    "\n",
    "# Crear nueva columna con el total de insolvencias\n",
    "df_merged[\"total_insolvencias\"] = (\n",
    "    df_merged[\"t_voluntario\"].fillna(0) +\n",
    "    df_merged[\"t_necesario\"].fillna(0) +\n",
    "    df_merged[\"t_consecutivo\"].fillna(0)\n",
    ")\n",
    "\n",
    "# Confirmar que se creó correctamente\n",
    "print(df_merged[[\"t_voluntario\", \"t_necesario\", \"t_consecutivo\", \"total_insolvencias\"]].head())\n"
   ]
  },
  {
   "cell_type": "code",
   "execution_count": 83,
   "id": "7271621a",
   "metadata": {},
   "outputs": [
    {
     "name": "stdout",
     "output_type": "stream",
     "text": [
      "        comunidad_provincia comunidad_autonoma\n",
      "0                   Almería          Andalucia\n",
      "18                    Cádiz          Andalucia\n",
      "36                  Córdoba          Andalucia\n",
      "54                  Granada          Andalucia\n",
      "72                   Huelva          Andalucia\n",
      "90                     Jaén          Andalucia\n",
      "108                  Málaga          Andalucia\n",
      "126                 Sevilla          Andalucia\n",
      "144                  Huesca             Aragon\n",
      "162                  Teruel             Aragon\n",
      "180                Zaragoza             Aragon\n",
      "198                Asturias           Asturias\n",
      "216          Balears, Illes           Baleares\n",
      "234  Santa Cruz de Tenerife           Canarias\n",
      "252                Canarias           Canarias\n",
      "270               Cantabria          Cantabria\n",
      "288                   Ávila    Castilla y Leon\n",
      "306                  Burgos    Castilla y Leon\n",
      "324                    León    Castilla y Leon\n",
      "342                Palencia    Castilla y Leon\n"
     ]
    }
   ],
   "source": [
    "# ============================\n",
    "# 3. Crear mapeo provincia → CCAA en df_merged\n",
    "# ============================\n",
    "# Diccionario provincia → Comunidad Autónoma (normalizada)\n",
    "provincia_to_ccaa = {\n",
    "    # Andalucía\n",
    "    \"Almería\": \"Andalucia\",\n",
    "    \"Cádiz\": \"Andalucia\",\n",
    "    \"Córdoba\": \"Andalucia\",\n",
    "    \"Granada\": \"Andalucia\",\n",
    "    \"Huelva\": \"Andalucia\",\n",
    "    \"Jaén\": \"Andalucia\",\n",
    "    \"Málaga\": \"Andalucia\",\n",
    "    \"Sevilla\": \"Andalucia\",\n",
    "\n",
    "    # Aragón\n",
    "    \"Huesca\": \"Aragon\",\n",
    "    \"Teruel\": \"Aragon\",\n",
    "    \"Zaragoza\": \"Aragon\",\n",
    "    \"Aragón\": \"Aragon\",\n",
    "\n",
    "    # Asturias\n",
    "    \"Asturias\": \"Asturias\",\n",
    "\n",
    "    # Baleares\n",
    "    \"Balears, Illes\": \"Baleares\",\n",
    "\n",
    "    # Canarias\n",
    "    \"Palmas, Las\": \"Canarias\",\n",
    "    \"Santa Cruz de Tenerife\": \"Canarias\",\n",
    "    \"Canarias\": \"Canarias\",\n",
    "\n",
    "    # Cantabria\n",
    "    \"Cantabria\": \"Cantabria\",\n",
    "\n",
    "    # Castilla y León\n",
    "    \"Ávila\": \"Castilla y Leon\",\n",
    "    \"Burgos\": \"Castilla y Leon\",\n",
    "    \"León\": \"Castilla y Leon\",\n",
    "    \"Palencia\": \"Castilla y Leon\",\n",
    "    \"Salamanca\": \"Castilla y Leon\",\n",
    "    \"Segovia\": \"Castilla y Leon\",\n",
    "    \"Soria\": \"Castilla y Leon\",\n",
    "    \"Valladolid\": \"Castilla y Leon\",\n",
    "    \"Zamora\": \"Castilla y Leon\",\n",
    "\n",
    "    # Castilla-La Mancha\n",
    "    \"Albacete\": \"Castilla La Mancha\",\n",
    "    \"Ciudad Real\": \"Castilla La Mancha\",\n",
    "    \"Cuenca\": \"Castilla La Mancha\",\n",
    "    \"Guadalajara\": \"Castilla La Mancha\",\n",
    "    \"Toledo\": \"Castilla La Mancha\",\n",
    "\n",
    "    # Cataluña\n",
    "    \"Barcelona\": \"Cataluña\",\n",
    "    \"Girona\": \"Cataluña\",\n",
    "    \"Lleida\": \"Cataluña\",\n",
    "    \"Tarragona\": \"Cataluña\",\n",
    "    \"Cataluña\": \"Cataluña\",\n",
    "\n",
    "    # Comunitat Valenciana\n",
    "    \"Alicante/Alacant\": \"Valencia\",\n",
    "    \"Castellón/Castelló\": \"Valencia\",\n",
    "    \"Valencia/València\": \"Valencia\",\n",
    "    \"Valencia\": \"Valencia\",\n",
    "\n",
    "    # Extremadura\n",
    "    \"Badajoz\": \"Extremadura\",\n",
    "    \"Cáceres\": \"Extremadura\",\n",
    "\n",
    "    # Galicia\n",
    "    \"Coruña, A\": \"Galicia\",\n",
    "    \"Lugo\": \"Galicia\",\n",
    "    \"Ourense\": \"Galicia\",\n",
    "    \"Pontevedra\": \"Galicia\",\n",
    "\n",
    "    # Madrid\n",
    "    \"Madrid\": \"Madrid\",\n",
    "\n",
    "    # Murcia\n",
    "    \"Murcia\": \"Murcia\",\n",
    "\n",
    "    # Navarra\n",
    "    \"Navarra\": \"Navarra\",\n",
    "\n",
    "    # País Vasco\n",
    "    \"Araba/Álava\": \"Pais Vasco\",\n",
    "    \"Bizkaia\": \"Pais Vasco\",\n",
    "    \"Gipuzkoa\": \"Pais Vasco\",\n",
    "    \"País Vasco\": \"Pais Vasco\",\n",
    "\n",
    "    # La Rioja\n",
    "    \"Rioja, La\": \"La Rioja\",\n",
    "\n",
    "    # Ceuta y Melilla\n",
    "    \"Ceuta\": \"Ceuta\",\n",
    "    \"Melilla\": \"Melilla\"\n",
    "}\n",
    "\n",
    "# Crear nueva columna en dataset 1 con la comunidad correspondiente\n",
    "import pandas as pd\n",
    "\n",
    "df_merged = pd.read_csv(\"C:/Users/juana/Desktop/liquideuda_project/datasets_clean/merged_registradores.csv\")\n",
    "\n",
    "df_merged[\"comunidad_autonoma\"] = df_merged[\"comunidad_provincia\"].map(provincia_to_ccaa)\n",
    "\n",
    "# Validar\n",
    "print(df_merged[[\"comunidad_provincia\", \"comunidad_autonoma\"]].drop_duplicates().head(20))\n"
   ]
  },
  {
   "cell_type": "code",
   "execution_count": 84,
   "id": "fa7cf812",
   "metadata": {},
   "outputs": [
    {
     "name": "stdout",
     "output_type": "stream",
     "text": [
      "         año        año\n",
      "0 2021-01-01 2021-01-01\n",
      "1 2021-01-01 2021-01-01\n",
      "2 2021-01-01 2021-01-01\n",
      "3 2021-01-01 2021-01-01\n",
      "4 2022-01-01 2022-01-01\n",
      "datetime64[ns]\n"
     ]
    }
   ],
   "source": [
    "# Convertir la columna año a tipo datetime (formato fecha con solo el año)\n",
    "df_merged[\"año\"] = pd.to_datetime(df_merged[\"año\"], format=\"%Y\")\n",
    "\n",
    "# Verificar el cambio\n",
    "print(df_merged[[\"año\", \"año\"]].head())\n",
    "print(df_merged[\"año\"].dtype)\n"
   ]
  },
  {
   "cell_type": "code",
   "execution_count": 85,
   "id": "fcd8017b",
   "metadata": {},
   "outputs": [
    {
     "name": "stdout",
     "output_type": "stream",
     "text": [
      "Archivo guardado en: C:\\Users\\juana\\Desktop\\liquideuda_project\\datasets_clean\\merged_registradores.csv\n"
     ]
    }
   ],
   "source": [
    "import os\n",
    "# Definir ruta destino\n",
    "ruta_destino = r\"C:\\Users\\juana\\Desktop\\liquideuda_project\\datasets_clean\"\n",
    "\n",
    "# Guardar CSV en la ruta destino\n",
    "ruta_csv = os.path.join(ruta_destino, \"merged_registradores.csv\")\n",
    "df_merged.to_csv(ruta_csv, index=False, encoding=\"utf-8-sig\")\n",
    "\n",
    "print(f\"Archivo guardado en: {ruta_csv}\")"
   ]
  },
  {
   "cell_type": "code",
   "execution_count": 86,
   "id": "f0110197",
   "metadata": {},
   "outputs": [
    {
     "data": {
      "text/plain": [
       "(882, 58)"
      ]
     },
     "execution_count": 86,
     "metadata": {},
     "output_type": "execute_result"
    }
   ],
   "source": [
    "df_merged.shape"
   ]
  }
 ],
 "metadata": {
  "kernelspec": {
   "display_name": "base",
   "language": "python",
   "name": "python3"
  },
  "language_info": {
   "codemirror_mode": {
    "name": "ipython",
    "version": 3
   },
   "file_extension": ".py",
   "mimetype": "text/x-python",
   "name": "python",
   "nbconvert_exporter": "python",
   "pygments_lexer": "ipython3",
   "version": "3.12.4"
  }
 },
 "nbformat": 4,
 "nbformat_minor": 5
}

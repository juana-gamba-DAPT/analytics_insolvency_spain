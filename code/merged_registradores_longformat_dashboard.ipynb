{
 "cells": [
  {
   "cell_type": "code",
   "execution_count": 1,
   "id": "e09757f8",
   "metadata": {},
   "outputs": [],
   "source": [
    "# -------------------------------\n",
    "# BLOQUE DE EDA INICIAL\n",
    "# -------------------------------\n",
    "\n",
    "import pandas as pd\n",
    "import matplotlib.pyplot as plt\n",
    "import seaborn as sns\n",
    "# --- 1. Cargar  CSV ---\n",
    "df = pd.read_csv(\"C:/Users/juana/Desktop/liquideuda_project/datasets_clean/merged_registradores.csv\")"
   ]
  },
  {
   "cell_type": "code",
   "execution_count": 3,
   "id": "0bea7eb9",
   "metadata": {},
   "outputs": [
    {
     "name": "stdout",
     "output_type": "stream",
     "text": [
      "       id_geo___ca comunidad_provincia         año  trimestre  \\\n",
      "0              104             Almería  2021-01-01          1   \n",
      "1              104             Almería  2021-01-01          2   \n",
      "2              104             Almería  2021-01-01          3   \n",
      "3              104             Almería  2021-01-01          4   \n",
      "4              104             Almería  2022-01-01          1   \n",
      "...            ...                 ...         ...        ...   \n",
      "46741         1952             Melilla  2024-01-01          2   \n",
      "46742         1952             Melilla  2024-01-01          3   \n",
      "46743         1952             Melilla  2024-01-01          4   \n",
      "46744         1952             Melilla  2025-01-01          1   \n",
      "46745         1952             Melilla  2025-01-01          2   \n",
      "\n",
      "      comunidad_autonoma                tipo  valor  \n",
      "0              Andalucia         s_limitadas    8.0  \n",
      "1              Andalucia         s_limitadas   10.0  \n",
      "2              Andalucia         s_limitadas   10.0  \n",
      "3              Andalucia         s_limitadas   11.0  \n",
      "4              Andalucia         s_limitadas    8.0  \n",
      "...                  ...                 ...    ...  \n",
      "46741            Melilla  total_insolvencias    8.0  \n",
      "46742            Melilla  total_insolvencias    0.0  \n",
      "46743            Melilla  total_insolvencias    9.0  \n",
      "46744            Melilla  total_insolvencias   10.0  \n",
      "46745            Melilla  total_insolvencias   17.0  \n",
      "\n",
      "[46746 rows x 7 columns]\n"
     ]
    }
   ],
   "source": [
    "# Lista de columnas que quieres \"derretir\"\n",
    "cols_melt = [\n",
    "    \"s_limitadas\",\"s_anonimas\",\"sotras\",\"personas_fisicas\",\n",
    "    \"t_voluntario\",\"t_necesario\",\"t_consecutivo\",\n",
    "    \"c_ordinario\",\"c_especial\",\"c_sin_masa\",\n",
    "    \"a\",\"b\",\"c\",\"d\",\"e\",\"f\",\"g\",\"h\",\"i\",\"j\",\"k\",\"l\",\"m\",\"n\",\"o\",\"p\",\"q\",\"r\",\"s\",\n",
    "    \"na0\",\"na1_2\",\"na3_5\",\"na6_9\",\"na10_19\",\"na20_49\",\"na50_99\",\"na100_o_mas\",\n",
    "    \"sd_x\",\"v_menos_de_025\",\"v_entre_025_y_05\",\"v_entre_05_y_1\",\"v_entre_1_y_2\",\n",
    "    \"v_entre_2_y_5\",\"v_entre_5_y_10\",\"v_10_o_mas\",\"sd_y\",\n",
    "    \"a_hasta_4\",\"a_entre_5_y_8\",\"a_entre_9_y_12\",\"a_entre_13_y_16\",\n",
    "    \"a_entre_17_y_19\",\"a_20_o_mas\",\"total_insolvencias\"\n",
    "]\n",
    "\n",
    "# Convertir a formato largo\n",
    "df_long = df.melt(\n",
    "    id_vars=[\"id_geo___ca\",\"comunidad_provincia\",\"año\",\"trimestre\",\"comunidad_autonoma\"],\n",
    "    value_vars=cols_melt,\n",
    "    var_name=\"tipo\",\n",
    "    value_name=\"valor\"\n",
    ")\n",
    "\n",
    "# Revisar resultado\n",
    "print(df_long)\n"
   ]
  },
  {
   "cell_type": "code",
   "execution_count": 4,
   "id": "76e072ae",
   "metadata": {},
   "outputs": [
    {
     "name": "stdout",
     "output_type": "stream",
     "text": [
      "Valores únicos en columna `tipo` (todas las variables transformadas):\n",
      "['s_limitadas' 's_anonimas' 'sotras' 'personas_fisicas' 't_voluntario'\n",
      " 't_necesario' 't_consecutivo' 'c_ordinario' 'c_especial' 'c_sin_masa' 'a'\n",
      " 'b' 'c' 'd' 'e' 'f' 'g' 'h' 'i' 'j' 'k' 'l' 'm' 'n' 'o' 'p' 'q' 'r' 's'\n",
      " 'na0' 'na1_2' 'na3_5' 'na6_9' 'na10_19' 'na20_49' 'na50_99' 'na100_o_mas'\n",
      " 'sd_x' 'v_menos_de_025' 'v_entre_025_y_05' 'v_entre_05_y_1'\n",
      " 'v_entre_1_y_2' 'v_entre_2_y_5' 'v_entre_5_y_10' 'v_10_o_mas' 'sd_y'\n",
      " 'a_hasta_4' 'a_entre_5_y_8' 'a_entre_9_y_12' 'a_entre_13_y_16'\n",
      " 'a_entre_17_y_19' 'a_20_o_mas' 'total_insolvencias']\n",
      "Cantidad de variables en `tipo`: 53\n"
     ]
    }
   ],
   "source": [
    "print(\"Valores únicos en columna `tipo` (todas las variables transformadas):\")\n",
    "print(df_long[\"tipo\"].unique())\n",
    "print(\"Cantidad de variables en `tipo`:\", df_long[\"tipo\"].nunique())\n"
   ]
  },
  {
   "cell_type": "code",
   "execution_count": 6,
   "id": "a026228b",
   "metadata": {},
   "outputs": [
    {
     "name": "stdout",
     "output_type": "stream",
     "text": [
      "Archivo guardado en: C:\\Users\\juana\\Desktop\\liquideuda_project\\datasets_clean\\merged_registradores_longformat.csv\n"
     ]
    }
   ],
   "source": [
    "import os\n",
    "# Definir ruta destino\n",
    "ruta_destino = r\"C:\\Users\\juana\\Desktop\\liquideuda_project\\datasets_clean\"\n",
    "\n",
    "# Guardar CSV en la ruta destino\n",
    "ruta_csv = os.path.join(ruta_destino, \"merged_registradores_longformat.csv\")\n",
    "df_long.to_csv(ruta_csv, index=False, encoding=\"utf-8-sig\")\n",
    "\n",
    "print(f\"Archivo guardado en: {ruta_csv}\")"
   ]
  }
 ],
 "metadata": {
  "kernelspec": {
   "display_name": "base",
   "language": "python",
   "name": "python3"
  },
  "language_info": {
   "codemirror_mode": {
    "name": "ipython",
    "version": 3
   },
   "file_extension": ".py",
   "mimetype": "text/x-python",
   "name": "python",
   "nbconvert_exporter": "python",
   "pygments_lexer": "ipython3",
   "version": "3.12.4"
  }
 },
 "nbformat": 4,
 "nbformat_minor": 5
}
